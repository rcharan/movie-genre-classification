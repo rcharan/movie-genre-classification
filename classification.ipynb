{
 "cells": [
  {
   "cell_type": "code",
   "execution_count": 1,
   "metadata": {},
   "outputs": [],
   "source": [
    "import pandas as pd\n",
    "import seaborn as sns\n",
    "import matplotlib.pyplot as plt\n",
    "import numpy as np"
   ]
  },
  {
   "cell_type": "code",
   "execution_count": 2,
   "metadata": {},
   "outputs": [],
   "source": [
    "%matplotlib inline\n",
    "plt.ioff()\n",
    "sns.set_style('darkgrid')\n",
    "sns.set_context('talk')"
   ]
  },
  {
   "cell_type": "code",
   "execution_count": 3,
   "metadata": {},
   "outputs": [],
   "source": [
    "from utilities import *"
   ]
  },
  {
   "cell_type": "code",
   "execution_count": 4,
   "metadata": {},
   "outputs": [],
   "source": [
    "%load_ext autoreload\n",
    "%autoreload 2"
   ]
  },
  {
   "cell_type": "markdown",
   "metadata": {},
   "source": [
    "# Part 1: Load and Examine the Data"
   ]
  },
  {
   "cell_type": "code",
   "execution_count": 5,
   "metadata": {},
   "outputs": [
    {
     "data": {
      "text/html": [
       "<div>\n",
       "<style scoped>\n",
       "    .dataframe tbody tr th:only-of-type {\n",
       "        vertical-align: middle;\n",
       "    }\n",
       "\n",
       "    .dataframe tbody tr th {\n",
       "        vertical-align: top;\n",
       "    }\n",
       "\n",
       "    .dataframe thead th {\n",
       "        text-align: right;\n",
       "    }\n",
       "</style>\n",
       "<table border=\"1\" class=\"dataframe\">\n",
       "  <thead>\n",
       "    <tr style=\"text-align: right;\">\n",
       "      <th></th>\n",
       "      <th>release_year</th>\n",
       "      <th>title</th>\n",
       "      <th>plot</th>\n",
       "      <th>director</th>\n",
       "      <th>cast</th>\n",
       "      <th>genre</th>\n",
       "    </tr>\n",
       "  </thead>\n",
       "  <tbody>\n",
       "    <tr>\n",
       "      <th>10281</th>\n",
       "      <td>1984</td>\n",
       "      <td>Silent Madness</td>\n",
       "      <td>A computer error leads to the accidental relea...</td>\n",
       "      <td>Simon Nuchtern</td>\n",
       "      <td>Belinda Montgomery, Viveca Lindfors</td>\n",
       "      <td>horror</td>\n",
       "    </tr>\n",
       "    <tr>\n",
       "      <th>7341</th>\n",
       "      <td>1960</td>\n",
       "      <td>Desire in the Dust</td>\n",
       "      <td>Lonnie Wilson (Ken Scott), the son of a sharec...</td>\n",
       "      <td>Robert L. Lippert</td>\n",
       "      <td>Raymond Burr, Martha Hyer, Joan Bennett</td>\n",
       "      <td>drama</td>\n",
       "    </tr>\n",
       "    <tr>\n",
       "      <th>10587</th>\n",
       "      <td>1986</td>\n",
       "      <td>On the Edge</td>\n",
       "      <td>A gaunt, bushy-bearded, 44-year-old Wes Holman...</td>\n",
       "      <td>Rob Nilsson</td>\n",
       "      <td>Bruce Dern, Pam Grier</td>\n",
       "      <td>drama</td>\n",
       "    </tr>\n",
       "    <tr>\n",
       "      <th>25495</th>\n",
       "      <td>1988</td>\n",
       "      <td>Ram-Avtar</td>\n",
       "      <td>Ram and Avtar are both childhood best friends....</td>\n",
       "      <td>Sunil Hingorani</td>\n",
       "      <td>Sunny Deol, Anil Kapoor, Sridevi</td>\n",
       "      <td>drama</td>\n",
       "    </tr>\n",
       "    <tr>\n",
       "      <th>16607</th>\n",
       "      <td>2013</td>\n",
       "      <td>Machete Kills</td>\n",
       "      <td>Machete Cortez (Danny Trejo) and Sartana River...</td>\n",
       "      <td>Robert Rodriguez</td>\n",
       "      <td>Danny Trejo, Michelle Rodriguez, Sofía Vergara...</td>\n",
       "      <td>action</td>\n",
       "    </tr>\n",
       "  </tbody>\n",
       "</table>\n",
       "</div>"
      ],
      "text/plain": [
       "       release_year               title  \\\n",
       "10281          1984      Silent Madness   \n",
       "7341           1960  Desire in the Dust   \n",
       "10587          1986         On the Edge   \n",
       "25495          1988           Ram-Avtar   \n",
       "16607          2013       Machete Kills   \n",
       "\n",
       "                                                    plot           director  \\\n",
       "10281  A computer error leads to the accidental relea...     Simon Nuchtern   \n",
       "7341   Lonnie Wilson (Ken Scott), the son of a sharec...  Robert L. Lippert   \n",
       "10587  A gaunt, bushy-bearded, 44-year-old Wes Holman...        Rob Nilsson   \n",
       "25495  Ram and Avtar are both childhood best friends....    Sunil Hingorani   \n",
       "16607  Machete Cortez (Danny Trejo) and Sartana River...   Robert Rodriguez   \n",
       "\n",
       "                                                    cast   genre  \n",
       "10281                Belinda Montgomery, Viveca Lindfors  horror  \n",
       "7341             Raymond Burr, Martha Hyer, Joan Bennett   drama  \n",
       "10587                              Bruce Dern, Pam Grier   drama  \n",
       "25495                   Sunny Deol, Anil Kapoor, Sridevi   drama  \n",
       "16607  Danny Trejo, Michelle Rodriguez, Sofía Vergara...  action  "
      ]
     },
     "execution_count": 5,
     "metadata": {},
     "output_type": "execute_result"
    }
   ],
   "source": [
    "col_rename = lambda df : df.rename(lambda s : s.lower().replace(' ', '_'), axis = 'columns')\n",
    "\n",
    "data           = col_rename(pd.read_csv('movie_train.csv', index_col=0))\n",
    "out_of_sample  = col_rename(pd.read_csv('movie_test.csv' , index_col=0))\n",
    "oos = out_of_sample # alias\n",
    "\n",
    "data.head()"
   ]
  },
  {
   "cell_type": "code",
   "execution_count": 6,
   "metadata": {},
   "outputs": [],
   "source": [
    "# Convenience function to view calls on \n",
    "#  training data and out-of-sample data\n",
    "#  simultaneously\n",
    "def compare(*attrs):\n",
    "    ss = [data, out_of_sample]\n",
    "    for attr in attrs:\n",
    "        if attr[-2:] == '()':\n",
    "            ss = lmap(lambda s : s.__getattr__(attr[:-2]).__call__(), ss)\n",
    "        else:\n",
    "            ss = lmap(lambda s : s.__getattr__(attr), ss)\n",
    "    ss = [s.rename(name) for s, name in zip(ss, ['data', 'out_of_sample'])]\n",
    "    return pd.concat(ss, axis = 'columns', sort = True)"
   ]
  },
  {
   "cell_type": "code",
   "execution_count": 7,
   "metadata": {},
   "outputs": [
    {
     "data": {
      "text/html": [
       "<div>\n",
       "<style scoped>\n",
       "    .dataframe tbody tr th:only-of-type {\n",
       "        vertical-align: middle;\n",
       "    }\n",
       "\n",
       "    .dataframe tbody tr th {\n",
       "        vertical-align: top;\n",
       "    }\n",
       "\n",
       "    .dataframe thead th {\n",
       "        text-align: right;\n",
       "    }\n",
       "</style>\n",
       "<table border=\"1\" class=\"dataframe\">\n",
       "  <thead>\n",
       "    <tr style=\"text-align: right;\">\n",
       "      <th></th>\n",
       "      <th>data</th>\n",
       "      <th>out_of_sample</th>\n",
       "    </tr>\n",
       "  </thead>\n",
       "  <tbody>\n",
       "    <tr>\n",
       "      <th>cast</th>\n",
       "      <td>object</td>\n",
       "      <td>object</td>\n",
       "    </tr>\n",
       "    <tr>\n",
       "      <th>director</th>\n",
       "      <td>object</td>\n",
       "      <td>object</td>\n",
       "    </tr>\n",
       "    <tr>\n",
       "      <th>genre</th>\n",
       "      <td>object</td>\n",
       "      <td>NaN</td>\n",
       "    </tr>\n",
       "    <tr>\n",
       "      <th>plot</th>\n",
       "      <td>object</td>\n",
       "      <td>object</td>\n",
       "    </tr>\n",
       "    <tr>\n",
       "      <th>release_year</th>\n",
       "      <td>int64</td>\n",
       "      <td>int64</td>\n",
       "    </tr>\n",
       "    <tr>\n",
       "      <th>title</th>\n",
       "      <td>object</td>\n",
       "      <td>object</td>\n",
       "    </tr>\n",
       "  </tbody>\n",
       "</table>\n",
       "</div>"
      ],
      "text/plain": [
       "                data out_of_sample\n",
       "cast          object        object\n",
       "director      object        object\n",
       "genre         object           NaN\n",
       "plot          object        object\n",
       "release_year   int64         int64\n",
       "title         object        object"
      ]
     },
     "execution_count": 7,
     "metadata": {},
     "output_type": "execute_result"
    }
   ],
   "source": [
    "# Check correct loading of datatypes\n",
    "compare('dtypes')"
   ]
  },
  {
   "cell_type": "markdown",
   "metadata": {},
   "source": [
    "## 1 - Look for missing values"
   ]
  },
  {
   "cell_type": "code",
   "execution_count": 8,
   "metadata": {},
   "outputs": [
    {
     "data": {
      "text/html": [
       "<div>\n",
       "<style scoped>\n",
       "    .dataframe tbody tr th:only-of-type {\n",
       "        vertical-align: middle;\n",
       "    }\n",
       "\n",
       "    .dataframe tbody tr th {\n",
       "        vertical-align: top;\n",
       "    }\n",
       "\n",
       "    .dataframe thead th {\n",
       "        text-align: right;\n",
       "    }\n",
       "</style>\n",
       "<table border=\"1\" class=\"dataframe\">\n",
       "  <thead>\n",
       "    <tr style=\"text-align: right;\">\n",
       "      <th></th>\n",
       "      <th>data</th>\n",
       "      <th>out_of_sample</th>\n",
       "    </tr>\n",
       "  </thead>\n",
       "  <tbody>\n",
       "    <tr>\n",
       "      <th>cast</th>\n",
       "      <td>169</td>\n",
       "      <td>57.0</td>\n",
       "    </tr>\n",
       "    <tr>\n",
       "      <th>director</th>\n",
       "      <td>0</td>\n",
       "      <td>0.0</td>\n",
       "    </tr>\n",
       "    <tr>\n",
       "      <th>genre</th>\n",
       "      <td>0</td>\n",
       "      <td>NaN</td>\n",
       "    </tr>\n",
       "    <tr>\n",
       "      <th>plot</th>\n",
       "      <td>0</td>\n",
       "      <td>0.0</td>\n",
       "    </tr>\n",
       "    <tr>\n",
       "      <th>release_year</th>\n",
       "      <td>0</td>\n",
       "      <td>0.0</td>\n",
       "    </tr>\n",
       "    <tr>\n",
       "      <th>title</th>\n",
       "      <td>0</td>\n",
       "      <td>0.0</td>\n",
       "    </tr>\n",
       "  </tbody>\n",
       "</table>\n",
       "</div>"
      ],
      "text/plain": [
       "              data  out_of_sample\n",
       "cast           169           57.0\n",
       "director         0            0.0\n",
       "genre            0            NaN\n",
       "plot             0            0.0\n",
       "release_year     0            0.0\n",
       "title            0            0.0"
      ]
     },
     "execution_count": 8,
     "metadata": {},
     "output_type": "execute_result"
    }
   ],
   "source": [
    "compare('isna()', 'sum()')"
   ]
  },
  {
   "cell_type": "code",
   "execution_count": 9,
   "metadata": {},
   "outputs": [
    {
     "name": "stdout",
     "output_type": "stream",
     "text": [
      "(10682, 6) (3561, 5)\n"
     ]
    }
   ],
   "source": [
    "print(data.shape, oos.shape)"
   ]
  },
  {
   "cell_type": "code",
   "execution_count": 10,
   "metadata": {},
   "outputs": [
    {
     "data": {
      "text/html": [
       "<div>\n",
       "<style scoped>\n",
       "    .dataframe tbody tr th:only-of-type {\n",
       "        vertical-align: middle;\n",
       "    }\n",
       "\n",
       "    .dataframe tbody tr th {\n",
       "        vertical-align: top;\n",
       "    }\n",
       "\n",
       "    .dataframe thead th {\n",
       "        text-align: right;\n",
       "    }\n",
       "</style>\n",
       "<table border=\"1\" class=\"dataframe\">\n",
       "  <thead>\n",
       "    <tr style=\"text-align: right;\">\n",
       "      <th></th>\n",
       "      <th>release_year</th>\n",
       "      <th>title</th>\n",
       "      <th>plot</th>\n",
       "      <th>director</th>\n",
       "      <th>cast</th>\n",
       "      <th>genre</th>\n",
       "    </tr>\n",
       "  </thead>\n",
       "  <tbody>\n",
       "    <tr>\n",
       "      <th>22523</th>\n",
       "      <td>2004</td>\n",
       "      <td>Kekexili: Mountain Patrol</td>\n",
       "      <td>The film opens with the summary execution of a...</td>\n",
       "      <td>Lu Chuan</td>\n",
       "      <td>NaN</td>\n",
       "      <td>drama</td>\n",
       "    </tr>\n",
       "    <tr>\n",
       "      <th>34135</th>\n",
       "      <td>2007</td>\n",
       "      <td>Dead Daughters</td>\n",
       "      <td>In present-day Moscow, a woman Vera (Daria Cha...</td>\n",
       "      <td>Pavel Ruminov</td>\n",
       "      <td>NaN</td>\n",
       "      <td>horror</td>\n",
       "    </tr>\n",
       "    <tr>\n",
       "      <th>12958</th>\n",
       "      <td>1997</td>\n",
       "      <td>Defying Gravity</td>\n",
       "      <td>John \"Griff\" Griffith, an average college stud...</td>\n",
       "      <td>John Keitel</td>\n",
       "      <td>NaN</td>\n",
       "      <td>drama</td>\n",
       "    </tr>\n",
       "    <tr>\n",
       "      <th>12937</th>\n",
       "      <td>1997</td>\n",
       "      <td>Cannibal Rollerbabes</td>\n",
       "      <td>When Scott is fired from Local Diner because h...</td>\n",
       "      <td>Unknown</td>\n",
       "      <td>NaN</td>\n",
       "      <td>horror</td>\n",
       "    </tr>\n",
       "    <tr>\n",
       "      <th>22329</th>\n",
       "      <td>2013</td>\n",
       "      <td>Stay</td>\n",
       "      <td>The movie Stay, based on the novel by Aislinn ...</td>\n",
       "      <td>Wiebke von Carolsfeld</td>\n",
       "      <td>NaN</td>\n",
       "      <td>drama</td>\n",
       "    </tr>\n",
       "  </tbody>\n",
       "</table>\n",
       "</div>"
      ],
      "text/plain": [
       "       release_year                      title  \\\n",
       "22523          2004  Kekexili: Mountain Patrol   \n",
       "34135          2007             Dead Daughters   \n",
       "12958          1997            Defying Gravity   \n",
       "12937          1997       Cannibal Rollerbabes   \n",
       "22329          2013                       Stay   \n",
       "\n",
       "                                                    plot  \\\n",
       "22523  The film opens with the summary execution of a...   \n",
       "34135  In present-day Moscow, a woman Vera (Daria Cha...   \n",
       "12958  John \"Griff\" Griffith, an average college stud...   \n",
       "12937  When Scott is fired from Local Diner because h...   \n",
       "22329  The movie Stay, based on the novel by Aislinn ...   \n",
       "\n",
       "                    director cast   genre  \n",
       "22523               Lu Chuan  NaN   drama  \n",
       "34135          Pavel Ruminov  NaN  horror  \n",
       "12958            John Keitel  NaN   drama  \n",
       "12937                Unknown  NaN  horror  \n",
       "22329  Wiebke von Carolsfeld  NaN   drama  "
      ]
     },
     "execution_count": 10,
     "metadata": {},
     "output_type": "execute_result"
    }
   ],
   "source": [
    "data[data.cast.isna()].head()"
   ]
  },
  {
   "cell_type": "markdown",
   "metadata": {},
   "source": [
    "## 1 - Look at the target"
   ]
  },
  {
   "cell_type": "code",
   "execution_count": 11,
   "metadata": {},
   "outputs": [
    {
     "data": {
      "text/plain": [
       "drama        3770\n",
       "comedy       2724\n",
       "horror        840\n",
       "action        830\n",
       "thriller      685\n",
       "romance       649\n",
       "western       525\n",
       "adventure     331\n",
       "crime         328\n",
       "Name: genre, dtype: int64"
      ]
     },
     "execution_count": 11,
     "metadata": {},
     "output_type": "execute_result"
    }
   ],
   "source": [
    "data.genre.value_counts()"
   ]
  },
  {
   "cell_type": "markdown",
   "metadata": {},
   "source": [
    "## 1 - Look at the overlap of directors"
   ]
  },
  {
   "cell_type": "code",
   "execution_count": 12,
   "metadata": {
    "scrolled": false
   },
   "outputs": [
    {
     "name": "stdout",
     "output_type": "stream",
     "text": [
      "data             5130.0\n",
      "out_of_sample    2354.0\n",
      "dtype: float64\n"
     ]
    },
    {
     "data": {
      "text/html": [
       "<div>\n",
       "<style scoped>\n",
       "    .dataframe tbody tr th:only-of-type {\n",
       "        vertical-align: middle;\n",
       "    }\n",
       "\n",
       "    .dataframe tbody tr th {\n",
       "        vertical-align: top;\n",
       "    }\n",
       "\n",
       "    .dataframe thead th {\n",
       "        text-align: right;\n",
       "    }\n",
       "</style>\n",
       "<table border=\"1\" class=\"dataframe\">\n",
       "  <thead>\n",
       "    <tr style=\"text-align: right;\">\n",
       "      <th></th>\n",
       "      <th>data</th>\n",
       "      <th>out_of_sample</th>\n",
       "    </tr>\n",
       "  </thead>\n",
       "  <tbody>\n",
       "    <tr>\n",
       "      <th>Unknown</th>\n",
       "      <td>99.0</td>\n",
       "      <td>36.0</td>\n",
       "    </tr>\n",
       "    <tr>\n",
       "      <th>Lesley Selander</th>\n",
       "      <td>24.0</td>\n",
       "      <td>11.0</td>\n",
       "    </tr>\n",
       "    <tr>\n",
       "      <th>Allan Dwan</th>\n",
       "      <td>12.0</td>\n",
       "      <td>9.0</td>\n",
       "    </tr>\n",
       "    <tr>\n",
       "      <th>Charles Lamont</th>\n",
       "      <td>7.0</td>\n",
       "      <td>9.0</td>\n",
       "    </tr>\n",
       "    <tr>\n",
       "      <th>Otto Preminger</th>\n",
       "      <td>6.0</td>\n",
       "      <td>8.0</td>\n",
       "    </tr>\n",
       "  </tbody>\n",
       "</table>\n",
       "</div>"
      ],
      "text/plain": [
       "                 data  out_of_sample\n",
       "Unknown          99.0           36.0\n",
       "Lesley Selander  24.0           11.0\n",
       "Allan Dwan       12.0            9.0\n",
       "Charles Lamont    7.0            9.0\n",
       "Otto Preminger    6.0            8.0"
      ]
     },
     "execution_count": 12,
     "metadata": {},
     "output_type": "execute_result"
    }
   ],
   "source": [
    "# There is pretty substantial overlap in directorship\n",
    "#  Note that 'unknown' is a director\n",
    "directors = compare('director', 'value_counts()').sort_values('out_of_sample', ascending = False)\n",
    "directors = directors[(~directors.data.isna()) & (~directors.out_of_sample.isna())]\n",
    "print(directors.sum())\n",
    "directors.head()"
   ]
  },
  {
   "cell_type": "code",
   "execution_count": 13,
   "metadata": {},
   "outputs": [
    {
     "data": {
      "image/png": "[encoded data removed]",
      "text/plain": [
       "<Figure size 432x288 with 1 Axes>"
      ]
     },
     "execution_count": 13,
     "metadata": {},
     "output_type": "execute_result"
    }
   ],
   "source": [
    "# There appears to be substantial information available in the unknown directors\n",
    "fig, ax = stacked_countplot(\n",
    "                  data.genre.rename('All'),\n",
    "                  data[data.director == 'Unknown'].genre.rename('Unknown Director'),\n",
    "                  normalize = True\n",
    "                 )\n",
    "ax.set_title('Comparison of Genre Distribution: Overall Versus Unknown Director')\n",
    "fig"
   ]
  },
  {
   "cell_type": "code",
   "execution_count": 45,
   "metadata": {},
   "outputs": [
    {
     "data": {
      "image/png": "[encoded data removed]",
      "text/plain": [
       "<Figure size 576x288 with 1 Axes>"
      ]
     },
     "metadata": {},
     "output_type": "display_data"
    }
   ],
   "source": [
    "data['is_unknown_director'] = data.director == 'Unknown'\n",
    "\n",
    "g = sns.FacetGrid(data, hue = 'is_unknown_director', height = 4, aspect = 2)\n",
    "g.map(sns.distplot, 'release_year', bins = 20)\n",
    "\n",
    "ax = g.fig.axes[0]\n",
    "ax.set_xlim([data.release_year.min(), data.release_year.max()])\n",
    "ax.set_xlabel('Release Year')\n",
    "ax.set_ylabel('Frequency')\n",
    "ax.set_title('Distribution of Release Year by whether Director is Unknown')\n",
    "ax.legend()\n",
    "\n",
    "drop_col(data, 'is_unknown_director')\n",
    "\n",
    "plt.show()"
   ]
  },
  {
   "cell_type": "code",
   "execution_count": 15,
   "metadata": {},
   "outputs": [
    {
     "data": {
      "text/html": [
       "<div>\n",
       "<style scoped>\n",
       "    .dataframe tbody tr th:only-of-type {\n",
       "        vertical-align: middle;\n",
       "    }\n",
       "\n",
       "    .dataframe tbody tr th {\n",
       "        vertical-align: top;\n",
       "    }\n",
       "\n",
       "    .dataframe thead th {\n",
       "        text-align: right;\n",
       "    }\n",
       "</style>\n",
       "<table border=\"1\" class=\"dataframe\">\n",
       "  <thead>\n",
       "    <tr style=\"text-align: right;\">\n",
       "      <th></th>\n",
       "      <th>data</th>\n",
       "      <th>out_of_sample</th>\n",
       "    </tr>\n",
       "  </thead>\n",
       "  <tbody>\n",
       "    <tr>\n",
       "      <th>Robert Ellis Miller</th>\n",
       "      <td>1.0</td>\n",
       "      <td>4.0</td>\n",
       "    </tr>\n",
       "    <tr>\n",
       "      <th>Ben Stiller</th>\n",
       "      <td>1.0</td>\n",
       "      <td>4.0</td>\n",
       "    </tr>\n",
       "    <tr>\n",
       "      <th>S. V. Krishna Reddy</th>\n",
       "      <td>1.0</td>\n",
       "      <td>4.0</td>\n",
       "    </tr>\n",
       "    <tr>\n",
       "      <th>Roy William Neill</th>\n",
       "      <td>1.0</td>\n",
       "      <td>3.0</td>\n",
       "    </tr>\n",
       "    <tr>\n",
       "      <th>Anil Sharma</th>\n",
       "      <td>1.0</td>\n",
       "      <td>3.0</td>\n",
       "    </tr>\n",
       "    <tr>\n",
       "      <th>...</th>\n",
       "      <td>...</td>\n",
       "      <td>...</td>\n",
       "    </tr>\n",
       "    <tr>\n",
       "      <th>James Kenelm Clarke</th>\n",
       "      <td>1.0</td>\n",
       "      <td>1.0</td>\n",
       "    </tr>\n",
       "    <tr>\n",
       "      <th>James Keach</th>\n",
       "      <td>1.0</td>\n",
       "      <td>1.0</td>\n",
       "    </tr>\n",
       "    <tr>\n",
       "      <th>James F. Collier</th>\n",
       "      <td>1.0</td>\n",
       "      <td>1.0</td>\n",
       "    </tr>\n",
       "    <tr>\n",
       "      <th>James Cameron</th>\n",
       "      <td>1.0</td>\n",
       "      <td>1.0</td>\n",
       "    </tr>\n",
       "    <tr>\n",
       "      <th>Jambu</th>\n",
       "      <td>1.0</td>\n",
       "      <td>1.0</td>\n",
       "    </tr>\n",
       "  </tbody>\n",
       "</table>\n",
       "<p>405 rows × 2 columns</p>\n",
       "</div>"
      ],
      "text/plain": [
       "                     data  out_of_sample\n",
       "Robert Ellis Miller   1.0            4.0\n",
       "Ben Stiller           1.0            4.0\n",
       "S. V. Krishna Reddy   1.0            4.0\n",
       "Roy William Neill     1.0            3.0\n",
       "Anil Sharma           1.0            3.0\n",
       "...                   ...            ...\n",
       "James Kenelm Clarke   1.0            1.0\n",
       "James Keach           1.0            1.0\n",
       "James F. Collier      1.0            1.0\n",
       "James Cameron         1.0            1.0\n",
       "Jambu                 1.0            1.0\n",
       "\n",
       "[405 rows x 2 columns]"
      ]
     },
     "execution_count": 15,
     "metadata": {},
     "output_type": "execute_result"
    }
   ],
   "source": [
    "# Many directors have only one movie in the training data\n",
    "directors[directors.data == 1]"
   ]
  },
  {
   "cell_type": "code",
   "execution_count": 46,
   "metadata": {
    "scrolled": false
   },
   "outputs": [
    {
     "name": "stdout",
     "output_type": "stream",
     "text": [
      "Mean number of effective genres: 2.0\n"
     ]
    },
    {
     "data": {
      "image/png": "[encoded data removed]",
      "text/plain": [
       "<Figure size 432x288 with 1 Axes>"
      ]
     },
     "metadata": {},
     "output_type": "display_data"
    }
   ],
   "source": [
    "# Let's get a sense for how much information we can extract by\n",
    "# computing the inverse herfindahl index on the \n",
    "# training data directors. This is the effective number\n",
    "# of genres directed by a director.\n",
    "def herfindahl_index(series):\n",
    "    series = series.value_counts()\n",
    "    return 1 / ((series/series.sum())**2).sum()\n",
    "    \n",
    "prolific_directors    = directors[directors.data > 1].data.index\n",
    "prolific_directors    = data.director.isin(prolific_directors)\n",
    "\n",
    "h = data[prolific_directors].groupby('director').genre.apply(herfindahl_index)\n",
    "print(f'Mean number of effective genres: {round(h.mean(),1)}')\n",
    "\n",
    "fig, ax = plt.subplots()\n",
    "sns.distplot(h, ax = ax)\n",
    "ax.set_xlim([1, max(h)])\n",
    "ax.set_xlabel('Effective # genres')\n",
    "ax.set_ylabel('Density')\n",
    "ax.set_title('Distribution of effective # genres for directors with multiple movies')\n",
    "plt.show()"
   ]
  },
  {
   "cell_type": "markdown",
   "metadata": {},
   "source": [
    "## 1 - Look for uncoded missing values in plot"
   ]
  },
  {
   "cell_type": "code",
   "execution_count": 17,
   "metadata": {
    "scrolled": false
   },
   "outputs": [
    {
     "data": {
      "text/html": [
       "<div>\n",
       "<style scoped>\n",
       "    .dataframe tbody tr th:only-of-type {\n",
       "        vertical-align: middle;\n",
       "    }\n",
       "\n",
       "    .dataframe tbody tr th {\n",
       "        vertical-align: top;\n",
       "    }\n",
       "\n",
       "    .dataframe thead th {\n",
       "        text-align: right;\n",
       "    }\n",
       "</style>\n",
       "<table border=\"1\" class=\"dataframe\">\n",
       "  <thead>\n",
       "    <tr style=\"text-align: right;\">\n",
       "      <th></th>\n",
       "      <th>release_year</th>\n",
       "      <th>title</th>\n",
       "      <th>plot</th>\n",
       "      <th>director</th>\n",
       "      <th>cast</th>\n",
       "      <th>genre</th>\n",
       "    </tr>\n",
       "  </thead>\n",
       "  <tbody>\n",
       "    <tr>\n",
       "      <th>24876</th>\n",
       "      <td>1973</td>\n",
       "      <td>Chhalia</td>\n",
       "      <td>Chhalia is a family thriller.</td>\n",
       "      <td>Mukul Dutt</td>\n",
       "      <td>Navin Nischol, Nanda, Shatrughan Sinha</td>\n",
       "      <td>action</td>\n",
       "    </tr>\n",
       "    <tr>\n",
       "      <th>6210</th>\n",
       "      <td>1954</td>\n",
       "      <td>They Were So Young</td>\n",
       "      <td>\"A beach near Rio de Janeiro\".</td>\n",
       "      <td>Kurt Neumann</td>\n",
       "      <td>Raymond Burr, Scott Brady, Johanna Matz</td>\n",
       "      <td>drama</td>\n",
       "    </tr>\n",
       "    <tr>\n",
       "      <th>7382</th>\n",
       "      <td>1960</td>\n",
       "      <td>Noose for a Gunman</td>\n",
       "      <td>A gunman takes on a corrupt land baron.</td>\n",
       "      <td>Edward L. Cahn</td>\n",
       "      <td>Jim Davis, Lyn Thomas</td>\n",
       "      <td>western</td>\n",
       "    </tr>\n",
       "    <tr>\n",
       "      <th>4075</th>\n",
       "      <td>1945</td>\n",
       "      <td>A Medal for Benny</td>\n",
       "      <td>The film examines small town hypocrisy.</td>\n",
       "      <td>Irving Pichel</td>\n",
       "      <td>Dorothy Lamour, Arturo de Córdova</td>\n",
       "      <td>drama</td>\n",
       "    </tr>\n",
       "    <tr>\n",
       "      <th>25919</th>\n",
       "      <td>1997</td>\n",
       "      <td>Suraj</td>\n",
       "      <td>Suraj is an Action film for Mithun Fans.</td>\n",
       "      <td>T.L.V. Prasad</td>\n",
       "      <td>Rakesh Bedi, Mithun Chakraborty, Puneet Issar</td>\n",
       "      <td>action</td>\n",
       "    </tr>\n",
       "  </tbody>\n",
       "</table>\n",
       "</div>"
      ],
      "text/plain": [
       "       release_year               title  \\\n",
       "24876          1973             Chhalia   \n",
       "6210           1954  They Were So Young   \n",
       "7382           1960  Noose for a Gunman   \n",
       "4075           1945   A Medal for Benny   \n",
       "25919          1997               Suraj   \n",
       "\n",
       "                                           plot        director  \\\n",
       "24876             Chhalia is a family thriller.      Mukul Dutt   \n",
       "6210             \"A beach near Rio de Janeiro\".    Kurt Neumann   \n",
       "7382    A gunman takes on a corrupt land baron.  Edward L. Cahn   \n",
       "4075    The film examines small town hypocrisy.   Irving Pichel   \n",
       "25919  Suraj is an Action film for Mithun Fans.   T.L.V. Prasad   \n",
       "\n",
       "                                                cast    genre  \n",
       "24876         Navin Nischol, Nanda, Shatrughan Sinha   action  \n",
       "6210         Raymond Burr, Scott Brady, Johanna Matz    drama  \n",
       "7382                           Jim Davis, Lyn Thomas  western  \n",
       "4075               Dorothy Lamour, Arturo de Córdova    drama  \n",
       "25919  Rakesh Bedi, Mithun Chakraborty, Puneet Issar   action  "
      ]
     },
     "execution_count": 17,
     "metadata": {},
     "output_type": "execute_result"
    }
   ],
   "source": [
    "plot_len = data['plot'].apply(len).sort_values()\n",
    "data.loc[plot_len.iloc[:5].index]"
   ]
  },
  {
   "cell_type": "code",
   "execution_count": 18,
   "metadata": {},
   "outputs": [
    {
     "data": {
      "text/html": [
       "<div>\n",
       "<style scoped>\n",
       "    .dataframe tbody tr th:only-of-type {\n",
       "        vertical-align: middle;\n",
       "    }\n",
       "\n",
       "    .dataframe tbody tr th {\n",
       "        vertical-align: top;\n",
       "    }\n",
       "\n",
       "    .dataframe thead th {\n",
       "        text-align: right;\n",
       "    }\n",
       "</style>\n",
       "<table border=\"1\" class=\"dataframe\">\n",
       "  <thead>\n",
       "    <tr style=\"text-align: right;\">\n",
       "      <th></th>\n",
       "      <th>release_year</th>\n",
       "      <th>title</th>\n",
       "      <th>plot</th>\n",
       "      <th>director</th>\n",
       "      <th>cast</th>\n",
       "    </tr>\n",
       "  </thead>\n",
       "  <tbody>\n",
       "    <tr>\n",
       "      <th>7429</th>\n",
       "      <td>1960</td>\n",
       "      <td>Walk Like a Dragon</td>\n",
       "      <td>Film's introduction:</td>\n",
       "      <td>James Clavell</td>\n",
       "      <td>Jack Lord, Nobu McCarthy, Mel Torme</td>\n",
       "    </tr>\n",
       "    <tr>\n",
       "      <th>22731</th>\n",
       "      <td>2014</td>\n",
       "      <td>Blind Massage</td>\n",
       "      <td>The film is set in Nanjing.[1]</td>\n",
       "      <td>Lou Ye</td>\n",
       "      <td>Guo Xiaodong, Qin Hao, Zhang Lei, Mei Ting, Hu...</td>\n",
       "    </tr>\n",
       "    <tr>\n",
       "      <th>17972</th>\n",
       "      <td>2007</td>\n",
       "      <td>Doctor Bari</td>\n",
       "      <td>The film is about three doctors.</td>\n",
       "      <td>M Azijur Rahman</td>\n",
       "      <td>Shakib Khan, Shabnaz</td>\n",
       "    </tr>\n",
       "    <tr>\n",
       "      <th>17608</th>\n",
       "      <td>1991</td>\n",
       "      <td>Deadly</td>\n",
       "      <td>From the UK VHS slick for the movie:</td>\n",
       "      <td>Esben Storm</td>\n",
       "      <td>Jerome Ehlers, Frank Gallacher, Lydia Miller</td>\n",
       "    </tr>\n",
       "    <tr>\n",
       "      <th>18965</th>\n",
       "      <td>1951</td>\n",
       "      <td>Death Is a Number</td>\n",
       "      <td>A man is persecuted by the number 9.</td>\n",
       "      <td>Robert Henryson</td>\n",
       "      <td>Terence Alexander, Lesley Osmond, Ingeborg von...</td>\n",
       "    </tr>\n",
       "  </tbody>\n",
       "</table>\n",
       "</div>"
      ],
      "text/plain": [
       "       release_year               title                                  plot  \\\n",
       "7429           1960  Walk Like a Dragon                  Film's introduction:   \n",
       "22731          2014       Blind Massage        The film is set in Nanjing.[1]   \n",
       "17972          2007         Doctor Bari      The film is about three doctors.   \n",
       "17608          1991              Deadly  From the UK VHS slick for the movie:   \n",
       "18965          1951   Death Is a Number  A man is persecuted by the number 9.   \n",
       "\n",
       "              director                                               cast  \n",
       "7429     James Clavell                Jack Lord, Nobu McCarthy, Mel Torme  \n",
       "22731           Lou Ye  Guo Xiaodong, Qin Hao, Zhang Lei, Mei Ting, Hu...  \n",
       "17972  M Azijur Rahman                               Shakib Khan, Shabnaz  \n",
       "17608      Esben Storm       Jerome Ehlers, Frank Gallacher, Lydia Miller  \n",
       "18965  Robert Henryson  Terence Alexander, Lesley Osmond, Ingeborg von...  "
      ]
     },
     "execution_count": 18,
     "metadata": {},
     "output_type": "execute_result"
    }
   ],
   "source": [
    "plot_len = oos['plot'].apply(len).sort_values()\n",
    "oos.loc[plot_len.iloc[:5].index]"
   ]
  },
  {
   "cell_type": "code",
   "execution_count": 19,
   "metadata": {},
   "outputs": [
    {
     "data": {
      "text/html": [
       "<div>\n",
       "<style scoped>\n",
       "    .dataframe tbody tr th:only-of-type {\n",
       "        vertical-align: middle;\n",
       "    }\n",
       "\n",
       "    .dataframe tbody tr th {\n",
       "        vertical-align: top;\n",
       "    }\n",
       "\n",
       "    .dataframe thead th {\n",
       "        text-align: right;\n",
       "    }\n",
       "</style>\n",
       "<table border=\"1\" class=\"dataframe\">\n",
       "  <thead>\n",
       "    <tr style=\"text-align: right;\">\n",
       "      <th></th>\n",
       "      <th>release_year</th>\n",
       "      <th>title</th>\n",
       "      <th>plot</th>\n",
       "      <th>director</th>\n",
       "      <th>cast</th>\n",
       "      <th>genre</th>\n",
       "    </tr>\n",
       "  </thead>\n",
       "  <tbody>\n",
       "    <tr>\n",
       "      <th>10281</th>\n",
       "      <td>1984</td>\n",
       "      <td>Silent Madness</td>\n",
       "      <td>A computer error leads to the accidental relea...</td>\n",
       "      <td>Simon Nuchtern</td>\n",
       "      <td>Belinda Montgomery, Viveca Lindfors</td>\n",
       "      <td>horror</td>\n",
       "    </tr>\n",
       "    <tr>\n",
       "      <th>7341</th>\n",
       "      <td>1960</td>\n",
       "      <td>Desire in the Dust</td>\n",
       "      <td>Lonnie Wilson (Ken Scott), the son of a sharec...</td>\n",
       "      <td>Robert L. Lippert</td>\n",
       "      <td>Raymond Burr, Martha Hyer, Joan Bennett</td>\n",
       "      <td>drama</td>\n",
       "    </tr>\n",
       "    <tr>\n",
       "      <th>10587</th>\n",
       "      <td>1986</td>\n",
       "      <td>On the Edge</td>\n",
       "      <td>A gaunt, bushy-bearded, 44-year-old Wes Holman...</td>\n",
       "      <td>Rob Nilsson</td>\n",
       "      <td>Bruce Dern, Pam Grier</td>\n",
       "      <td>drama</td>\n",
       "    </tr>\n",
       "    <tr>\n",
       "      <th>25495</th>\n",
       "      <td>1988</td>\n",
       "      <td>Ram-Avtar</td>\n",
       "      <td>Ram and Avtar are both childhood best friends....</td>\n",
       "      <td>Sunil Hingorani</td>\n",
       "      <td>Sunny Deol, Anil Kapoor, Sridevi</td>\n",
       "      <td>drama</td>\n",
       "    </tr>\n",
       "    <tr>\n",
       "      <th>16607</th>\n",
       "      <td>2013</td>\n",
       "      <td>Machete Kills</td>\n",
       "      <td>Machete Cortez (Danny Trejo) and Sartana River...</td>\n",
       "      <td>Robert Rodriguez</td>\n",
       "      <td>Danny Trejo, Michelle Rodriguez, Sofía Vergara...</td>\n",
       "      <td>action</td>\n",
       "    </tr>\n",
       "    <tr>\n",
       "      <th>...</th>\n",
       "      <td>...</td>\n",
       "      <td>...</td>\n",
       "      <td>...</td>\n",
       "      <td>...</td>\n",
       "      <td>...</td>\n",
       "      <td>...</td>\n",
       "    </tr>\n",
       "    <tr>\n",
       "      <th>4652</th>\n",
       "      <td>1948</td>\n",
       "      <td>Fighting Back</td>\n",
       "      <td>Nick Sanders comes home from the war and needs...</td>\n",
       "      <td>Malcolm St. Clair</td>\n",
       "      <td>Jean Rogers, Paul Langton</td>\n",
       "      <td>drama</td>\n",
       "    </tr>\n",
       "    <tr>\n",
       "      <th>23220</th>\n",
       "      <td>1987</td>\n",
       "      <td>The Romance of Book and Sword</td>\n",
       "      <td>The film covers the first half of the novel an...</td>\n",
       "      <td>Ann Hui</td>\n",
       "      <td>Zhang Duofu, Chang Dashi, Liu Jia</td>\n",
       "      <td>action</td>\n",
       "    </tr>\n",
       "    <tr>\n",
       "      <th>15847</th>\n",
       "      <td>2010</td>\n",
       "      <td>Holy Rollers</td>\n",
       "      <td>Sam Gold (Jesse Eisenberg), is a mild-mannered...</td>\n",
       "      <td>Kevin Asch</td>\n",
       "      <td>Jesse Eisenberg, Justin Bartha, Ari Graynor, D...</td>\n",
       "      <td>drama</td>\n",
       "    </tr>\n",
       "    <tr>\n",
       "      <th>3102</th>\n",
       "      <td>1941</td>\n",
       "      <td>Lady from Louisiana</td>\n",
       "      <td>Yankee lawyer John Reynolds (John Wayne) and S...</td>\n",
       "      <td>Bernard Vorhaus</td>\n",
       "      <td>John Wayne, Ona Munson</td>\n",
       "      <td>drama</td>\n",
       "    </tr>\n",
       "    <tr>\n",
       "      <th>3583</th>\n",
       "      <td>1943</td>\n",
       "      <td>Hitler's Madman</td>\n",
       "      <td>Somewhat fictionalized account of the destruct...</td>\n",
       "      <td>Douglas Sirk</td>\n",
       "      <td>Patricia Morison, Alan Curtis</td>\n",
       "      <td>drama</td>\n",
       "    </tr>\n",
       "  </tbody>\n",
       "</table>\n",
       "<p>10682 rows × 6 columns</p>\n",
       "</div>"
      ],
      "text/plain": [
       "       release_year                          title  \\\n",
       "10281          1984                 Silent Madness   \n",
       "7341           1960             Desire in the Dust   \n",
       "10587          1986                    On the Edge   \n",
       "25495          1988                      Ram-Avtar   \n",
       "16607          2013                  Machete Kills   \n",
       "...             ...                            ...   \n",
       "4652           1948                  Fighting Back   \n",
       "23220          1987  The Romance of Book and Sword   \n",
       "15847          2010                   Holy Rollers   \n",
       "3102           1941            Lady from Louisiana   \n",
       "3583           1943                Hitler's Madman   \n",
       "\n",
       "                                                    plot           director  \\\n",
       "10281  A computer error leads to the accidental relea...     Simon Nuchtern   \n",
       "7341   Lonnie Wilson (Ken Scott), the son of a sharec...  Robert L. Lippert   \n",
       "10587  A gaunt, bushy-bearded, 44-year-old Wes Holman...        Rob Nilsson   \n",
       "25495  Ram and Avtar are both childhood best friends....    Sunil Hingorani   \n",
       "16607  Machete Cortez (Danny Trejo) and Sartana River...   Robert Rodriguez   \n",
       "...                                                  ...                ...   \n",
       "4652   Nick Sanders comes home from the war and needs...  Malcolm St. Clair   \n",
       "23220  The film covers the first half of the novel an...            Ann Hui   \n",
       "15847  Sam Gold (Jesse Eisenberg), is a mild-mannered...         Kevin Asch   \n",
       "3102   Yankee lawyer John Reynolds (John Wayne) and S...    Bernard Vorhaus   \n",
       "3583   Somewhat fictionalized account of the destruct...       Douglas Sirk   \n",
       "\n",
       "                                                    cast   genre  \n",
       "10281                Belinda Montgomery, Viveca Lindfors  horror  \n",
       "7341             Raymond Burr, Martha Hyer, Joan Bennett   drama  \n",
       "10587                              Bruce Dern, Pam Grier   drama  \n",
       "25495                   Sunny Deol, Anil Kapoor, Sridevi   drama  \n",
       "16607  Danny Trejo, Michelle Rodriguez, Sofía Vergara...  action  \n",
       "...                                                  ...     ...  \n",
       "4652                           Jean Rogers, Paul Langton   drama  \n",
       "23220                  Zhang Duofu, Chang Dashi, Liu Jia  action  \n",
       "15847  Jesse Eisenberg, Justin Bartha, Ari Graynor, D...   drama  \n",
       "3102                              John Wayne, Ona Munson   drama  \n",
       "3583                       Patricia Morison, Alan Curtis   drama  \n",
       "\n",
       "[10682 rows x 6 columns]"
      ]
     },
     "execution_count": 19,
     "metadata": {},
     "output_type": "execute_result"
    }
   ],
   "source": [
    "data"
   ]
  },
  {
   "cell_type": "markdown",
   "metadata": {},
   "source": [
    "# Part 2: Build a First Classifier\n",
    "We'll keep it simple. Fit a count vectorizer to the data, then use Naive Bayes. Just use the plot text for now.\n",
    "\n",
    "We also set up our model tracking interface"
   ]
  },
  {
   "cell_type": "markdown",
   "metadata": {},
   "source": [
    "## 2 – Setup"
   ]
  },
  {
   "cell_type": "code",
   "execution_count": 20,
   "metadata": {},
   "outputs": [],
   "source": [
    "import sklearn.preprocessing   as pre\n",
    "import sklearn.pipeline        as pipe\n",
    "import sklearn.impute          as imp\n",
    "import sklearn.compose         as pipe2\n",
    "import sklearn.dummy           as dum\n",
    "import sklearn.metrics         as metr\n",
    "import sklearn.linear_model    as lin\n",
    "import sklearn.model_selection as cv\n",
    "import sklearn.tree            as tree\n",
    "import sklearn.ensemble        as ensem\n",
    "import sklearn.base            as base\n",
    "import sklearn.feature_extraction.text as text\n",
    "import sklearn.decomposition   as decomp\n",
    "import sklearn.naive_bayes     as bayes"
   ]
  },
  {
   "cell_type": "code",
   "execution_count": 21,
   "metadata": {},
   "outputs": [],
   "source": [
    "import spacy\n",
    "import string"
   ]
  },
  {
   "cell_type": "code",
   "execution_count": 22,
   "metadata": {},
   "outputs": [],
   "source": [
    "# To track the models\n",
    "models = []"
   ]
  },
  {
   "cell_type": "code",
   "execution_count": 23,
   "metadata": {},
   "outputs": [],
   "source": [
    "model_data    = {'name'    : 'plot-count-bayes',\n",
    "                 'display' : 'plot-count-bayes'}\n",
    "models.append(model_data)"
   ]
  },
  {
   "cell_type": "code",
   "execution_count": 24,
   "metadata": {},
   "outputs": [],
   "source": [
    "X_all = data.drop('genre', axis = 'columns')\n",
    "y_all = data.genre"
   ]
  },
  {
   "cell_type": "code",
   "execution_count": 25,
   "metadata": {},
   "outputs": [],
   "source": [
    "X_train, X_test, y_train, y_test = cv.train_test_split(X_all, y_all, random_state = 42)"
   ]
  },
  {
   "cell_type": "code",
   "execution_count": 26,
   "metadata": {},
   "outputs": [],
   "source": [
    "# Alias\n",
    "X = X_train\n",
    "y = y_train"
   ]
  },
  {
   "cell_type": "markdown",
   "metadata": {},
   "source": [
    "## 2 – Pre-process"
   ]
  },
  {
   "cell_type": "code",
   "execution_count": 27,
   "metadata": {},
   "outputs": [],
   "source": [
    "spacy_tokenizer = spacy.load(\"en_core_web_sm\", disable=['tagger', 'parser', 'ner'])\n",
    "\n",
    "def simple_token_filter(token):\n",
    "    if token.is_stop:\n",
    "        return False\n",
    "    elif token.text in string.punctuation:\n",
    "        return False\n",
    "    else:\n",
    "        return True\n",
    "\n",
    "def simple_tokenizer(string_):\n",
    "    doc = spacy_tokenizer(string_)\n",
    "    f   = filter(simple_token_filter, doc)\n",
    "    m   = [t.lower_ for t in f]\n",
    "    return m"
   ]
  },
  {
   "cell_type": "code",
   "execution_count": 28,
   "metadata": {},
   "outputs": [],
   "source": [
    "simple_pipe_in = pipe2.ColumnTransformer([\n",
    "        ('directors', pre.OneHotEncoder(handle_unknown = 'ignore'), ['director']),\n",
    "        ('plot-text', text.CountVectorizer(strip_accents= 'unicode', \n",
    "                                           lowercase    = True,\n",
    "                                           analyzer     = simple_tokenizer,\n",
    "#                                            max_df       = 1.0,\n",
    "                                           min_df       = 2\n",
    "                                          ),\n",
    "            'plot'\n",
    "        ),\n",
    "        ('rest'     , 'passthrough', ['release_year'])\n",
    "])"
   ]
  },
  {
   "cell_type": "markdown",
   "metadata": {},
   "source": [
    "## 2 – Learn"
   ]
  },
  {
   "cell_type": "code",
   "execution_count": 29,
   "metadata": {},
   "outputs": [],
   "source": [
    "# Convenient alias for scoring function\n",
    "f1 = 'f1_weighted'"
   ]
  },
  {
   "cell_type": "code",
   "execution_count": 30,
   "metadata": {},
   "outputs": [],
   "source": [
    "# Cross validation strategy\n",
    "splitter = cv.RepeatedStratifiedKFold(n_splits=5, n_repeats=5, random_state=42)\n",
    "\n",
    "# Set our defaults\n",
    "def grid_search(estimator, param_grid, \n",
    "                scoring = f1, n_jobs = -1,\n",
    "                refit = True,\n",
    "                cv_ = splitter,\n",
    "                verbose = 2):\n",
    "    return cv.GridSearchCV(estimator, param_grid,\n",
    "                           scoring = scoring,\n",
    "                           n_jobs  = n_jobs,\n",
    "                           refit = refit,\n",
    "                           cv = cv_,\n",
    "                           verbose = verbose\n",
    "                          )"
   ]
  },
  {
   "cell_type": "code",
   "execution_count": 31,
   "metadata": {},
   "outputs": [],
   "source": [
    "# Learner\n",
    "base_learner = bayes.MultinomialNB()\n",
    "param_grid   = {\n",
    "    'alpha' : list(np.linspace(0, 1, 11))\n",
    "}\n",
    "\n",
    "learner      = grid_search(base_learner, param_grid)"
   ]
  },
  {
   "cell_type": "code",
   "execution_count": 32,
   "metadata": {},
   "outputs": [],
   "source": [
    "# Pipeline\n",
    "model = pipe.Pipeline([\n",
    "    ('pipe-in', simple_pipe_in),\n",
    "    ('learn'  , learner)\n",
    "])"
   ]
  },
  {
   "cell_type": "code",
   "execution_count": 33,
   "metadata": {
    "scrolled": false
   },
   "outputs": [
    {
     "name": "stdout",
     "output_type": "stream",
     "text": [
      "Running fit\n",
      "Fitting 25 folds for each of 11 candidates, totalling 275 fits\n"
     ]
    },
    {
     "name": "stderr",
     "output_type": "stream",
     "text": [
      "[Parallel(n_jobs=-1)]: Using backend LokyBackend with 4 concurrent workers.\n",
      "[Parallel(n_jobs=-1)]: Done  33 tasks      | elapsed:    7.3s\n",
      "[Parallel(n_jobs=-1)]: Done 154 tasks      | elapsed:   16.1s\n",
      "[Parallel(n_jobs=-1)]: Done 275 out of 275 | elapsed:   23.0s finished\n"
     ]
    },
    {
     "name": "stdout",
     "output_type": "stream",
     "text": [
      "51.904 seconds elapsed\n"
     ]
    }
   ],
   "source": [
    "model = persist(model_data['name'], model, 'fit', X, y)\n",
    "model_data['model'] = model"
   ]
  },
  {
   "cell_type": "markdown",
   "metadata": {},
   "source": [
    "## 2 – Evaluate"
   ]
  },
  {
   "cell_type": "code",
   "execution_count": 47,
   "metadata": {},
   "outputs": [],
   "source": [
    "def evaluate(model_data, force_fit = False):\n",
    "    # Extract the Model\n",
    "    model = model_data['model']\n",
    "    \n",
    "    # Get predictions\n",
    "    y_pred      = persist(model_data['name']+'-y-pred',\n",
    "                          model,\n",
    "                          'predict',\n",
    "                          X_test,\n",
    "                          task = 'data',\n",
    "                          force_fit = force_fit)\n",
    "    \n",
    "    # Get F1 Score\n",
    "    f1 = metr.f1_score(y_test, y_pred, average = 'weighted')\n",
    "    model_data['f1-weighted'] = f1\n",
    "    \n",
    "    # Get predicted probabilities, if possible\n",
    "    try:\n",
    "        y_pred_prob = persist(model_data['name']+'-y-pred-prob',\n",
    "                              model, \n",
    "                              'predict_proba',\n",
    "                              X_test,\n",
    "                              task = 'data',\n",
    "                              force_fit = force_fit)\n",
    "        \n",
    "        y_train_pred_prob = persist(model_data['name']+'-y-train-pred-prob',\n",
    "                      model, \n",
    "                      'predict_proba',\n",
    "                      X,\n",
    "                      task = 'data',\n",
    "                      force_fit = force_fit)\n",
    "\n",
    "        print('----------------------\\n')\n",
    "        model_data['log_loss_test']  = metr.log_loss(y_test, y_pred_prob)\n",
    "        model_data['log_loss_train'] = metr.log_loss(y,      y_train_pred_prob)\n",
    "        print(f'Log Loss - Train  : {model_data[\"log_loss_train\"] :.2}\\n'\n",
    "              f'Log Loss - Test   : {model_data[\"log_loss_test\"]  :.2}')\n",
    "    except AttributeError:\n",
    "        print('No probabilities estimated')\n",
    "    print(f'Weighted F1 Score : {f1 : .2%}')\n",
    "    print('----------------------\\n')\n",
    "\n",
    "\n",
    "    # Make a confusion matrix\n",
    "    sns.set_style('dark')\n",
    "    fig, ax = plt.subplots(figsize = (10, 10))\n",
    "    plot_confusion_matrix(model, y_pred, y_test, \n",
    "                          normalize = None, ax = ax)\n",
    "    sns.set_style('darkgrid')\n",
    "\n",
    "    # Classification Report\n",
    "    print(metr.classification_report(y_test, y_pred))\n",
    "    model_data['report'] = metr.classification_report(y_test, y_pred, zero_division = 0, output_dict=True)\n",
    "    \n",
    "    \n",
    "    plt.show()"
   ]
  },
  {
   "cell_type": "code",
   "execution_count": 48,
   "metadata": {},
   "outputs": [
    {
     "name": "stdout",
     "output_type": "stream",
     "text": [
      "Loading plot-count-bayes-no-prior-y-pred from disk\n",
      "10.99 seconds elapsed in original job\n",
      "Loading plot-count-bayes-no-prior-y-pred-prob from disk\n",
      "8.868 seconds elapsed in original job\n",
      "Loading plot-count-bayes-no-prior-y-train-pred-prob from disk\n",
      "28.85 seconds elapsed in original job\n",
      "----------------------\n",
      "\n",
      "Log Loss - Train  : 4.2\n",
      "Log Loss - Test   : 1e+01\n",
      "Weighted F1 Score :  52.68%\n",
      "----------------------\n",
      "\n",
      "              precision    recall  f1-score   support\n",
      "\n",
      "      action       0.53      0.33      0.41       209\n",
      "   adventure       0.50      0.40      0.44        96\n",
      "      comedy       0.66      0.49      0.56       692\n",
      "       crime       0.36      0.13      0.19        79\n",
      "       drama       0.53      0.62      0.57       952\n",
      "      horror       0.64      0.64      0.64       216\n",
      "     romance       0.26      0.64      0.37       144\n",
      "    thriller       0.28      0.22      0.25       161\n",
      "     western       0.83      0.82      0.83       122\n",
      "\n",
      "    accuracy                           0.53      2671\n",
      "   macro avg       0.51      0.48      0.47      2671\n",
      "weighted avg       0.55      0.53      0.53      2671\n",
      "\n"
     ]
    },
    {
     "data": {
      "image/png": "[encoded data removed]",
      "text/plain": [
       "<Figure size 720x720 with 2 Axes>"
      ]
     },
     "metadata": {},
     "output_type": "display_data"
    }
   ],
   "source": [
    "evaluate(model_data)"
   ]
  },
  {
   "cell_type": "markdown",
   "metadata": {},
   "source": [
    "## 2 – Inspect"
   ]
  },
  {
   "cell_type": "code",
   "execution_count": 36,
   "metadata": {},
   "outputs": [
    {
     "name": "stdout",
     "output_type": "stream",
     "text": [
      "alpha       : 0.30000000000000004\n",
      "class_prior : None\n",
      "fit_prior   : True\n"
     ]
    }
   ],
   "source": [
    "print_best_params(model)"
   ]
  },
  {
   "cell_type": "markdown",
   "metadata": {},
   "source": [
    "# Part 3 – Let's avoid using the overall distribution in our classifier"
   ]
  },
  {
   "cell_type": "code",
   "execution_count": 49,
   "metadata": {},
   "outputs": [
    {
     "name": "stdout",
     "output_type": "stream",
     "text": [
      "Loading plot-count-bayes-no-prior from disk\n",
      "50.988 seconds elapsed in original job\n",
      "Loading plot-count-bayes-no-prior-y-pred from disk\n",
      "10.99 seconds elapsed in original job\n",
      "Loading plot-count-bayes-no-prior-y-pred-prob from disk\n",
      "8.868 seconds elapsed in original job\n",
      "Loading plot-count-bayes-no-prior-y-train-pred-prob from disk\n",
      "28.85 seconds elapsed in original job\n",
      "----------------------\n",
      "\n",
      "Log Loss - Train  : 4.2\n",
      "Log Loss - Test   : 1e+01\n",
      "Weighted F1 Score :  52.68%\n",
      "----------------------\n",
      "\n",
      "              precision    recall  f1-score   support\n",
      "\n",
      "      action       0.53      0.33      0.41       209\n",
      "   adventure       0.50      0.40      0.44        96\n",
      "      comedy       0.66      0.49      0.56       692\n",
      "       crime       0.36      0.13      0.19        79\n",
      "       drama       0.53      0.62      0.57       952\n",
      "      horror       0.64      0.64      0.64       216\n",
      "     romance       0.26      0.64      0.37       144\n",
      "    thriller       0.28      0.22      0.25       161\n",
      "     western       0.83      0.82      0.83       122\n",
      "\n",
      "    accuracy                           0.53      2671\n",
      "   macro avg       0.51      0.48      0.47      2671\n",
      "weighted avg       0.55      0.53      0.53      2671\n",
      "\n"
     ]
    },
    {
     "data": {
      "image/png": "[encoded data removed]",
      "text/plain": [
       "<Figure size 720x720 with 2 Axes>"
      ]
     },
     "metadata": {},
     "output_type": "display_data"
    },
    {
     "name": "stdout",
     "output_type": "stream",
     "text": [
      "alpha       : 0.4\n",
      "class_prior : None\n",
      "fit_prior   : False\n"
     ]
    }
   ],
   "source": [
    "# Tracking\n",
    "model_data    = {'name'    : 'plot-count-bayes-no-prior',\n",
    "                 'display' : 'plot-count-bayes-no-prior'}\n",
    "models.append(model_data)\n",
    "\n",
    "# Learner\n",
    "base_learner = bayes.MultinomialNB(fit_prior = False)\n",
    "param_grid   = {\n",
    "    'alpha' : list(np.linspace(0, 1, 11))\n",
    "}\n",
    "\n",
    "learner      = grid_search(base_learner, param_grid)\n",
    "\n",
    "# Pipeline\n",
    "model = pipe.Pipeline([\n",
    "    ('pipe-in', simple_pipe_in),\n",
    "    ('learn'  , learner)\n",
    "])\n",
    "\n",
    "# Fit\n",
    "model = persist(model_data['name'], model, 'fit', X, y)\n",
    "model_data['model'] = model\n",
    "\n",
    "# Evaluate\n",
    "evaluate(model_data)\n",
    "\n",
    "# Inspect\n",
    "print_best_params(model)"
   ]
  },
  {
   "cell_type": "code",
   "execution_count": null,
   "metadata": {},
   "outputs": [],
   "source": []
  }
 ],
 "metadata": {
  "kernelspec": {
   "display_name": "Python 3",
   "language": "python",
   "name": "python3"
  },
  "language_info": {
   "codemirror_mode": {
    "name": "ipython",
    "version": 3
   },
   "file_extension": ".py",
   "mimetype": "text/x-python",
   "name": "python",
   "nbconvert_exporter": "python",
   "pygments_lexer": "ipython3",
   "version": "3.7.3"
  }
 },
 "nbformat": 4,
 "nbformat_minor": 2
}
